{
  "nbformat": 4,
  "nbformat_minor": 0,
  "metadata": {
    "colab": {
      "provenance": []
    },
    "kernelspec": {
      "name": "python3",
      "display_name": "Python 3"
    },
    "language_info": {
      "name": "python"
    }
  },
  "cells": [
    {
      "cell_type": "code",
      "source": [
        "import pandas as pd\n",
        "import numpy as np\n",
        "import matplotlib.pyplot as plt\n",
        "from sklearn.feature_extraction.text import TfidfVectorizer\n",
        "import nltk\n",
        "import re\n",
        "from sklearn.model_selection import train_test_split\n",
        "import joblib\n",
        "import spacy\n",
        "import seaborn as sns\n",
        "from sklearn.linear_model import LogisticRegression\n",
        "from sklearn import metrics\n",
        "import seaborn as sns\n",
        "from sklearn.ensemble import RandomForestClassifier\n",
        "from sklearn.tree import DecisionTreeClassifier\n",
        "import joblib\n",
        "from nltk.corpus import stopwords\n",
        "from nltk.tokenize import word_tokenize\n",
        "from sklearn.metrics import accuracy_score, confusion_matrix, classification_report, f1_score"
      ],
      "metadata": {
        "id": "8p2UZLppsE_k"
      },
      "execution_count": 1,
      "outputs": []
    },
    {
      "cell_type": "code",
      "execution_count": 2,
      "metadata": {
        "id": "MQ8cd7h0zcoT",
        "colab": {
          "base_uri": "https://localhost:8080/"
        },
        "outputId": "cd47efad-cb1e-4465-87ca-d663e7597d82"
      },
      "outputs": [
        {
          "output_type": "stream",
          "name": "stdout",
          "text": [
            "Drive already mounted at /content/drive; to attempt to forcibly remount, call drive.mount(\"/content/drive\", force_remount=True).\n"
          ]
        }
      ],
      "source": [
        "from google.colab import drive\n",
        "drive.mount('/content/drive')"
      ]
    },
    {
      "cell_type": "code",
      "source": [
        "import pandas as pd\n",
        "dataset_path = '/content/drive/MyDrive/datasets/phishing_email.csv'\n",
        "data = pd.read_csv(dataset_path)"
      ],
      "metadata": {
        "id": "c9Xw8djNzv3A"
      },
      "execution_count": 3,
      "outputs": []
    },
    {
      "cell_type": "code",
      "source": [
        "data.shape"
      ],
      "metadata": {
        "colab": {
          "base_uri": "https://localhost:8080/"
        },
        "id": "4NhVFNMJMUHW",
        "outputId": "bebcfffb-c513-42d7-edf5-9e4cccab9d15"
      },
      "execution_count": 4,
      "outputs": [
        {
          "output_type": "execute_result",
          "data": {
            "text/plain": [
              "(82486, 2)"
            ]
          },
          "metadata": {},
          "execution_count": 4
        }
      ]
    },
    {
      "cell_type": "code",
      "source": [
        "data.head()"
      ],
      "metadata": {
        "id": "-Ux9bVECMVfd",
        "colab": {
          "base_uri": "https://localhost:8080/",
          "height": 206
        },
        "outputId": "744466ff-65f4-456b-89f6-d6d17598882d"
      },
      "execution_count": 5,
      "outputs": [
        {
          "output_type": "execute_result",
          "data": {
            "text/plain": [
              "                                       text_combined  label\n",
              "0  hpl nom may 25 2001 see attached file hplno 52...      0\n",
              "1  nom actual vols 24 th forwarded sabrae zajac h...      0\n",
              "2  enron actuals march 30 april 1 201 estimated a...      0\n",
              "3  hpl nom may 30 2001 see attached file hplno 53...      0\n",
              "4  hpl nom june 1 2001 see attached file hplno 60...      0"
            ],
            "text/html": [
              "\n",
              "  <div id=\"df-998fca48-9074-411d-9486-ab9adf40f65a\" class=\"colab-df-container\">\n",
              "    <div>\n",
              "<style scoped>\n",
              "    .dataframe tbody tr th:only-of-type {\n",
              "        vertical-align: middle;\n",
              "    }\n",
              "\n",
              "    .dataframe tbody tr th {\n",
              "        vertical-align: top;\n",
              "    }\n",
              "\n",
              "    .dataframe thead th {\n",
              "        text-align: right;\n",
              "    }\n",
              "</style>\n",
              "<table border=\"1\" class=\"dataframe\">\n",
              "  <thead>\n",
              "    <tr style=\"text-align: right;\">\n",
              "      <th></th>\n",
              "      <th>text_combined</th>\n",
              "      <th>label</th>\n",
              "    </tr>\n",
              "  </thead>\n",
              "  <tbody>\n",
              "    <tr>\n",
              "      <th>0</th>\n",
              "      <td>hpl nom may 25 2001 see attached file hplno 52...</td>\n",
              "      <td>0</td>\n",
              "    </tr>\n",
              "    <tr>\n",
              "      <th>1</th>\n",
              "      <td>nom actual vols 24 th forwarded sabrae zajac h...</td>\n",
              "      <td>0</td>\n",
              "    </tr>\n",
              "    <tr>\n",
              "      <th>2</th>\n",
              "      <td>enron actuals march 30 april 1 201 estimated a...</td>\n",
              "      <td>0</td>\n",
              "    </tr>\n",
              "    <tr>\n",
              "      <th>3</th>\n",
              "      <td>hpl nom may 30 2001 see attached file hplno 53...</td>\n",
              "      <td>0</td>\n",
              "    </tr>\n",
              "    <tr>\n",
              "      <th>4</th>\n",
              "      <td>hpl nom june 1 2001 see attached file hplno 60...</td>\n",
              "      <td>0</td>\n",
              "    </tr>\n",
              "  </tbody>\n",
              "</table>\n",
              "</div>\n",
              "    <div class=\"colab-df-buttons\">\n",
              "\n",
              "  <div class=\"colab-df-container\">\n",
              "    <button class=\"colab-df-convert\" onclick=\"convertToInteractive('df-998fca48-9074-411d-9486-ab9adf40f65a')\"\n",
              "            title=\"Convert this dataframe to an interactive table.\"\n",
              "            style=\"display:none;\">\n",
              "\n",
              "  <svg xmlns=\"http://www.w3.org/2000/svg\" height=\"24px\" viewBox=\"0 -960 960 960\">\n",
              "    <path d=\"M120-120v-720h720v720H120Zm60-500h600v-160H180v160Zm220 220h160v-160H400v160Zm0 220h160v-160H400v160ZM180-400h160v-160H180v160Zm440 0h160v-160H620v160ZM180-180h160v-160H180v160Zm440 0h160v-160H620v160Z\"/>\n",
              "  </svg>\n",
              "    </button>\n",
              "\n",
              "  <style>\n",
              "    .colab-df-container {\n",
              "      display:flex;\n",
              "      gap: 12px;\n",
              "    }\n",
              "\n",
              "    .colab-df-convert {\n",
              "      background-color: #E8F0FE;\n",
              "      border: none;\n",
              "      border-radius: 50%;\n",
              "      cursor: pointer;\n",
              "      display: none;\n",
              "      fill: #1967D2;\n",
              "      height: 32px;\n",
              "      padding: 0 0 0 0;\n",
              "      width: 32px;\n",
              "    }\n",
              "\n",
              "    .colab-df-convert:hover {\n",
              "      background-color: #E2EBFA;\n",
              "      box-shadow: 0px 1px 2px rgba(60, 64, 67, 0.3), 0px 1px 3px 1px rgba(60, 64, 67, 0.15);\n",
              "      fill: #174EA6;\n",
              "    }\n",
              "\n",
              "    .colab-df-buttons div {\n",
              "      margin-bottom: 4px;\n",
              "    }\n",
              "\n",
              "    [theme=dark] .colab-df-convert {\n",
              "      background-color: #3B4455;\n",
              "      fill: #D2E3FC;\n",
              "    }\n",
              "\n",
              "    [theme=dark] .colab-df-convert:hover {\n",
              "      background-color: #434B5C;\n",
              "      box-shadow: 0px 1px 3px 1px rgba(0, 0, 0, 0.15);\n",
              "      filter: drop-shadow(0px 1px 2px rgba(0, 0, 0, 0.3));\n",
              "      fill: #FFFFFF;\n",
              "    }\n",
              "  </style>\n",
              "\n",
              "    <script>\n",
              "      const buttonEl =\n",
              "        document.querySelector('#df-998fca48-9074-411d-9486-ab9adf40f65a button.colab-df-convert');\n",
              "      buttonEl.style.display =\n",
              "        google.colab.kernel.accessAllowed ? 'block' : 'none';\n",
              "\n",
              "      async function convertToInteractive(key) {\n",
              "        const element = document.querySelector('#df-998fca48-9074-411d-9486-ab9adf40f65a');\n",
              "        const dataTable =\n",
              "          await google.colab.kernel.invokeFunction('convertToInteractive',\n",
              "                                                    [key], {});\n",
              "        if (!dataTable) return;\n",
              "\n",
              "        const docLinkHtml = 'Like what you see? Visit the ' +\n",
              "          '<a target=\"_blank\" href=https://colab.research.google.com/notebooks/data_table.ipynb>data table notebook</a>'\n",
              "          + ' to learn more about interactive tables.';\n",
              "        element.innerHTML = '';\n",
              "        dataTable['output_type'] = 'display_data';\n",
              "        await google.colab.output.renderOutput(dataTable, element);\n",
              "        const docLink = document.createElement('div');\n",
              "        docLink.innerHTML = docLinkHtml;\n",
              "        element.appendChild(docLink);\n",
              "      }\n",
              "    </script>\n",
              "  </div>\n",
              "\n",
              "\n",
              "<div id=\"df-4a664bac-e1ac-4d6c-9aa3-518ce902a44f\">\n",
              "  <button class=\"colab-df-quickchart\" onclick=\"quickchart('df-4a664bac-e1ac-4d6c-9aa3-518ce902a44f')\"\n",
              "            title=\"Suggest charts\"\n",
              "            style=\"display:none;\">\n",
              "\n",
              "<svg xmlns=\"http://www.w3.org/2000/svg\" height=\"24px\"viewBox=\"0 0 24 24\"\n",
              "     width=\"24px\">\n",
              "    <g>\n",
              "        <path d=\"M19 3H5c-1.1 0-2 .9-2 2v14c0 1.1.9 2 2 2h14c1.1 0 2-.9 2-2V5c0-1.1-.9-2-2-2zM9 17H7v-7h2v7zm4 0h-2V7h2v10zm4 0h-2v-4h2v4z\"/>\n",
              "    </g>\n",
              "</svg>\n",
              "  </button>\n",
              "\n",
              "<style>\n",
              "  .colab-df-quickchart {\n",
              "      --bg-color: #E8F0FE;\n",
              "      --fill-color: #1967D2;\n",
              "      --hover-bg-color: #E2EBFA;\n",
              "      --hover-fill-color: #174EA6;\n",
              "      --disabled-fill-color: #AAA;\n",
              "      --disabled-bg-color: #DDD;\n",
              "  }\n",
              "\n",
              "  [theme=dark] .colab-df-quickchart {\n",
              "      --bg-color: #3B4455;\n",
              "      --fill-color: #D2E3FC;\n",
              "      --hover-bg-color: #434B5C;\n",
              "      --hover-fill-color: #FFFFFF;\n",
              "      --disabled-bg-color: #3B4455;\n",
              "      --disabled-fill-color: #666;\n",
              "  }\n",
              "\n",
              "  .colab-df-quickchart {\n",
              "    background-color: var(--bg-color);\n",
              "    border: none;\n",
              "    border-radius: 50%;\n",
              "    cursor: pointer;\n",
              "    display: none;\n",
              "    fill: var(--fill-color);\n",
              "    height: 32px;\n",
              "    padding: 0;\n",
              "    width: 32px;\n",
              "  }\n",
              "\n",
              "  .colab-df-quickchart:hover {\n",
              "    background-color: var(--hover-bg-color);\n",
              "    box-shadow: 0 1px 2px rgba(60, 64, 67, 0.3), 0 1px 3px 1px rgba(60, 64, 67, 0.15);\n",
              "    fill: var(--button-hover-fill-color);\n",
              "  }\n",
              "\n",
              "  .colab-df-quickchart-complete:disabled,\n",
              "  .colab-df-quickchart-complete:disabled:hover {\n",
              "    background-color: var(--disabled-bg-color);\n",
              "    fill: var(--disabled-fill-color);\n",
              "    box-shadow: none;\n",
              "  }\n",
              "\n",
              "  .colab-df-spinner {\n",
              "    border: 2px solid var(--fill-color);\n",
              "    border-color: transparent;\n",
              "    border-bottom-color: var(--fill-color);\n",
              "    animation:\n",
              "      spin 1s steps(1) infinite;\n",
              "  }\n",
              "\n",
              "  @keyframes spin {\n",
              "    0% {\n",
              "      border-color: transparent;\n",
              "      border-bottom-color: var(--fill-color);\n",
              "      border-left-color: var(--fill-color);\n",
              "    }\n",
              "    20% {\n",
              "      border-color: transparent;\n",
              "      border-left-color: var(--fill-color);\n",
              "      border-top-color: var(--fill-color);\n",
              "    }\n",
              "    30% {\n",
              "      border-color: transparent;\n",
              "      border-left-color: var(--fill-color);\n",
              "      border-top-color: var(--fill-color);\n",
              "      border-right-color: var(--fill-color);\n",
              "    }\n",
              "    40% {\n",
              "      border-color: transparent;\n",
              "      border-right-color: var(--fill-color);\n",
              "      border-top-color: var(--fill-color);\n",
              "    }\n",
              "    60% {\n",
              "      border-color: transparent;\n",
              "      border-right-color: var(--fill-color);\n",
              "    }\n",
              "    80% {\n",
              "      border-color: transparent;\n",
              "      border-right-color: var(--fill-color);\n",
              "      border-bottom-color: var(--fill-color);\n",
              "    }\n",
              "    90% {\n",
              "      border-color: transparent;\n",
              "      border-bottom-color: var(--fill-color);\n",
              "    }\n",
              "  }\n",
              "</style>\n",
              "\n",
              "  <script>\n",
              "    async function quickchart(key) {\n",
              "      const quickchartButtonEl =\n",
              "        document.querySelector('#' + key + ' button');\n",
              "      quickchartButtonEl.disabled = true;  // To prevent multiple clicks.\n",
              "      quickchartButtonEl.classList.add('colab-df-spinner');\n",
              "      try {\n",
              "        const charts = await google.colab.kernel.invokeFunction(\n",
              "            'suggestCharts', [key], {});\n",
              "      } catch (error) {\n",
              "        console.error('Error during call to suggestCharts:', error);\n",
              "      }\n",
              "      quickchartButtonEl.classList.remove('colab-df-spinner');\n",
              "      quickchartButtonEl.classList.add('colab-df-quickchart-complete');\n",
              "    }\n",
              "    (() => {\n",
              "      let quickchartButtonEl =\n",
              "        document.querySelector('#df-4a664bac-e1ac-4d6c-9aa3-518ce902a44f button');\n",
              "      quickchartButtonEl.style.display =\n",
              "        google.colab.kernel.accessAllowed ? 'block' : 'none';\n",
              "    })();\n",
              "  </script>\n",
              "</div>\n",
              "\n",
              "    </div>\n",
              "  </div>\n"
            ],
            "application/vnd.google.colaboratory.intrinsic+json": {
              "type": "dataframe",
              "variable_name": "data",
              "summary": "{\n  \"name\": \"data\",\n  \"rows\": 82486,\n  \"fields\": [\n    {\n      \"column\": \"text_combined\",\n      \"properties\": {\n        \"dtype\": \"string\",\n        \"num_unique_values\": 82078,\n        \"samples\": [\n          \"garp 2001 convention invitation speak invitation speak garp 2001 2 nd annual risk management convention 13 th 14 th february 2001 marriott world trade center new york dear kaminski telephone conversation today secretary shirley crenshaw behalf global association risk professionals great pleasure inviting speak 2 nd annual risk management convention garp 2001 event rapidly establishing risk management industry important meeting point garp 2000 reflected key concerns risk management experts world wide 400 attendees first year three simultaneous streams address traditional pricing risk management techniques along specialised streams addressing new sectors corporate world insurance industry speaker panel 55 senior executive financial professionals investment banks regulatory bodies asset management firms academics insurers insurers corporate system providers financial risk management event year key areas convention consider include market risk stress testing liquidity jump diffusion evt credit risk regulation modeling stress testing credit portfolio management credit derivatives operational risk regulation data modeling validation evt advanced asset liability management corporate energy risk management insurance capital markets research discussions experts arena name highly recommended speaker event stream corporate energy risk management mind one sessions also topic titles provisional open suggested alterations corporate energy risk management modelling corporate risk risk management shareholder value perspective measuring energy risk tackling price volatility adapting var scenario modelling regulatory requirements forward pricing construction forward curve correlations transparency issues volatility challenge modelling price volatility examining new products designed stabilise volatility energy credit risk management garp profit independent organisation risk management practitioners researchers leading financial institutions world wide garp mission facilitate exchange information developing educational programs promoting standards area financial risk management information please refer web site www garp com sincerely hope able accept invitation look forward hearing due course questions please hesitate contact otherwise call discuss best regards andreas ps also attached copy garps 2000 program attention _ _ _ _ _ _ _ _ _ _ _ _ _ _ _ _ _ _ _ _ _ _ _ _ _ _ _ _ andreas simou garp 2001 conference producer tel 44 0 20 7626 9301 fax 44 0 20 7626 9900 draft programme doc g 2000 b wlowr pdf\",\n          \"fly macromedia xp pro sp 2 adobe photoshop ms office 2 oo 3 acrobat norton raise find companion profession parents drew popular softwwares start 20 vf windows xp pro sp 2 microsoft office 2003 system pro 5 cds adobe photoshop cs 8 0 ogt adobe acrobat 7 0 professional autocad 2005 dmd symantec norton systemworks dvdxcopy platinum 4 0 38 quickbooks 2004 premier edition macromedia studio mx 2004 microsoft office system professional 2003 norton antivirus 2005 adobe pagemaker 7 01 beingpromised order ur softwares different turning steps already development disappoint mentioned slow raise tying least make back find\",\n          \"mr kala kabila kkkabila2003yahoocom kalla kabila johannesburg south africa dear sir know surprise receive lette letter request family dare need asistance kalla kabila democratic republic congo drc son mrs mercy kabila youngest wife late president laurent kabila murdered recently got name address business desk chamber commerce industry johannesburg behalf widowed mother mrs mercy kabila decided solicit assistance president laurent kabila got married mother widow currently residing johannesburg south africa child woman death willed us certain portion wealth including amount fund due love mother fund us24m twenty four million united states dollars deposited box one well rec ognized security company south africa valuables instructed us solicit assistance reliable sincere foreign partner assist us transfer money south africa investment purposes fortunately enough mother late president people aware moreover box deposited name claim alone deposited secret code mother still documents therefore need assistance transferring huge sum ofus24m twenty four million united states dollars inherited late father personal companys account please bear mind entire life future mother depend fund grateful assist us live south africa asylum seekers due circumstances behind fund family crisis invest money south africa fo r effort prepared offer 20 total su whi le 10 set aside expenses incurred transaction please note transaction 100 risk free major thing demand assurance safety money finally gets information arrangement commence soon trust confidence good relationship established shall grateful maintain confidentiality matter please confirm interest via email address dont forget drop phone fax number easeir communication best regards kalla kabila tue 20 apr 2004 140312 0400 need help\"\n        ],\n        \"semantic_type\": \"\",\n        \"description\": \"\"\n      }\n    },\n    {\n      \"column\": \"label\",\n      \"properties\": {\n        \"dtype\": \"number\",\n        \"std\": 0,\n        \"min\": 0,\n        \"max\": 1,\n        \"num_unique_values\": 2,\n        \"samples\": [\n          1,\n          0\n        ],\n        \"semantic_type\": \"\",\n        \"description\": \"\"\n      }\n    }\n  ]\n}"
            }
          },
          "metadata": {},
          "execution_count": 5
        }
      ]
    },
    {
      "cell_type": "code",
      "source": [
        "data.info()"
      ],
      "metadata": {
        "colab": {
          "base_uri": "https://localhost:8080/"
        },
        "id": "Y5EvvpIfrV-n",
        "outputId": "3d44a3e7-10c6-426a-b7ef-3eb4d7aa99e8"
      },
      "execution_count": 6,
      "outputs": [
        {
          "output_type": "stream",
          "name": "stdout",
          "text": [
            "<class 'pandas.core.frame.DataFrame'>\n",
            "RangeIndex: 82486 entries, 0 to 82485\n",
            "Data columns (total 2 columns):\n",
            " #   Column         Non-Null Count  Dtype \n",
            "---  ------         --------------  ----- \n",
            " 0   text_combined  82486 non-null  object\n",
            " 1   label          82486 non-null  int64 \n",
            "dtypes: int64(1), object(1)\n",
            "memory usage: 1.3+ MB\n"
          ]
        }
      ]
    },
    {
      "cell_type": "code",
      "source": [
        "data.isnull().sum()"
      ],
      "metadata": {
        "colab": {
          "base_uri": "https://localhost:8080/",
          "height": 147
        },
        "id": "V1p7woz6rSLa",
        "outputId": "f683e02c-f92d-41f3-f7a5-7d16cfbdf26f"
      },
      "execution_count": 7,
      "outputs": [
        {
          "output_type": "execute_result",
          "data": {
            "text/plain": [
              "text_combined    0\n",
              "label            0\n",
              "dtype: int64"
            ],
            "text/html": [
              "<div>\n",
              "<style scoped>\n",
              "    .dataframe tbody tr th:only-of-type {\n",
              "        vertical-align: middle;\n",
              "    }\n",
              "\n",
              "    .dataframe tbody tr th {\n",
              "        vertical-align: top;\n",
              "    }\n",
              "\n",
              "    .dataframe thead th {\n",
              "        text-align: right;\n",
              "    }\n",
              "</style>\n",
              "<table border=\"1\" class=\"dataframe\">\n",
              "  <thead>\n",
              "    <tr style=\"text-align: right;\">\n",
              "      <th></th>\n",
              "      <th>0</th>\n",
              "    </tr>\n",
              "  </thead>\n",
              "  <tbody>\n",
              "    <tr>\n",
              "      <th>text_combined</th>\n",
              "      <td>0</td>\n",
              "    </tr>\n",
              "    <tr>\n",
              "      <th>label</th>\n",
              "      <td>0</td>\n",
              "    </tr>\n",
              "  </tbody>\n",
              "</table>\n",
              "</div><br><label><b>dtype:</b> int64</label>"
            ]
          },
          "metadata": {},
          "execution_count": 7
        }
      ]
    },
    {
      "cell_type": "code",
      "source": [
        "data.duplicated().sum()"
      ],
      "metadata": {
        "colab": {
          "base_uri": "https://localhost:8080/"
        },
        "id": "mOYGxTI2rVZp",
        "outputId": "255565d1-c70c-48ba-db78-ed8e2d30487f"
      },
      "execution_count": 8,
      "outputs": [
        {
          "output_type": "execute_result",
          "data": {
            "text/plain": [
              "408"
            ]
          },
          "metadata": {},
          "execution_count": 8
        }
      ]
    },
    {
      "cell_type": "code",
      "source": [
        "data.drop_duplicates(inplace=True)"
      ],
      "metadata": {
        "id": "72SoWoW2rgNN"
      },
      "execution_count": 9,
      "outputs": []
    },
    {
      "cell_type": "code",
      "source": [
        "data.duplicated().sum()"
      ],
      "metadata": {
        "colab": {
          "base_uri": "https://localhost:8080/"
        },
        "id": "sqczPY4WridC",
        "outputId": "5f72ee39-ef8a-4145-b929-98657d246130"
      },
      "execution_count": 10,
      "outputs": [
        {
          "output_type": "execute_result",
          "data": {
            "text/plain": [
              "0"
            ]
          },
          "metadata": {},
          "execution_count": 10
        }
      ]
    },
    {
      "cell_type": "code",
      "source": [
        "data['label'].value_counts()"
      ],
      "metadata": {
        "colab": {
          "base_uri": "https://localhost:8080/",
          "height": 178
        },
        "id": "fIKQBqC6rjox",
        "outputId": "ee7adf03-b00c-4df4-f0ed-4bd888056100"
      },
      "execution_count": 11,
      "outputs": [
        {
          "output_type": "execute_result",
          "data": {
            "text/plain": [
              "label\n",
              "1    42845\n",
              "0    39233\n",
              "Name: count, dtype: int64"
            ],
            "text/html": [
              "<div>\n",
              "<style scoped>\n",
              "    .dataframe tbody tr th:only-of-type {\n",
              "        vertical-align: middle;\n",
              "    }\n",
              "\n",
              "    .dataframe tbody tr th {\n",
              "        vertical-align: top;\n",
              "    }\n",
              "\n",
              "    .dataframe thead th {\n",
              "        text-align: right;\n",
              "    }\n",
              "</style>\n",
              "<table border=\"1\" class=\"dataframe\">\n",
              "  <thead>\n",
              "    <tr style=\"text-align: right;\">\n",
              "      <th></th>\n",
              "      <th>count</th>\n",
              "    </tr>\n",
              "    <tr>\n",
              "      <th>label</th>\n",
              "      <th></th>\n",
              "    </tr>\n",
              "  </thead>\n",
              "  <tbody>\n",
              "    <tr>\n",
              "      <th>1</th>\n",
              "      <td>42845</td>\n",
              "    </tr>\n",
              "    <tr>\n",
              "      <th>0</th>\n",
              "      <td>39233</td>\n",
              "    </tr>\n",
              "  </tbody>\n",
              "</table>\n",
              "</div><br><label><b>dtype:</b> int64</label>"
            ]
          },
          "metadata": {},
          "execution_count": 11
        }
      ]
    },
    {
      "cell_type": "code",
      "source": [
        "#numbers of labels 1 and 0\n",
        "sns.countplot(data=data, x='label')\n",
        "plt.title('Distribution of Labels')\n",
        "plt.show()"
      ],
      "metadata": {
        "colab": {
          "base_uri": "https://localhost:8080/",
          "height": 472
        },
        "id": "4plpNUfQUXb0",
        "outputId": "f5d287ef-3bc5-4190-fd3d-791e5291d6f8"
      },
      "execution_count": 12,
      "outputs": [
        {
          "output_type": "display_data",
          "data": {
            "text/plain": [
              "<Figure size 640x480 with 1 Axes>"
            ],
            "image/png": "[encoded data removed]"
          },
          "metadata": {}
        }
      ]
    },
    {
      "cell_type": "code",
      "source": [
        "nltk.download('punkt', force=True)\n",
        "nltk.download('stopwords')"
      ],
      "metadata": {
        "colab": {
          "base_uri": "https://localhost:8080/"
        },
        "id": "pxCtL46BEt8n",
        "outputId": "bae40abc-2c20-4cf0-f222-8fae57c9cbd0"
      },
      "execution_count": 13,
      "outputs": [
        {
          "output_type": "stream",
          "name": "stderr",
          "text": [
            "[nltk_data] Downloading package punkt to /root/nltk_data...\n",
            "[nltk_data]   Unzipping tokenizers/punkt.zip.\n",
            "[nltk_data] Downloading package stopwords to /root/nltk_data...\n",
            "[nltk_data]   Unzipping corpora/stopwords.zip.\n"
          ]
        },
        {
          "output_type": "execute_result",
          "data": {
            "text/plain": [
              "True"
            ]
          },
          "metadata": {},
          "execution_count": 13
        }
      ]
    },
    {
      "cell_type": "code",
      "source": [
        "def preprocess_text(text):\n",
        "        # Remove hyperlinks\n",
        "        text = re.sub(r'http\\S+', '', text)\n",
        "\n",
        "        # Remove punctuations\n",
        "        text = re.sub(r'[^\\w\\s]', '', text)\n",
        "\n",
        "        # remove special characters\n",
        "        text = re.sub(r'[^a-zA-Z0-9\\s]', '', text)\n",
        "\n",
        "        # Convert to lowercase\n",
        "        text = text.lower()\n",
        "\n",
        "        # Remove extra spaces\n",
        "        text = re.sub(r'\\s+', ' ', text).strip()\n",
        "\n",
        "        stop_words = set(stopwords.words('english'))\n",
        "        tokens = word_tokenize(text)\n",
        "        tokens = [word for word in tokens if word.isalpha() and word not in stop_words]\n",
        "        return ' '.join(tokens)\n",
        "\n",
        "# Apply the preprocess_text function to the subject and body column in the DataFrame\n",
        "data['text_combined'] = data['text_combined'].apply(preprocess_text)"
      ],
      "metadata": {
        "id": "kGLaH1OKz0fP"
      },
      "execution_count": 14,
      "outputs": []
    },
    {
      "cell_type": "code",
      "source": [
        "data['text_combined'].head()"
      ],
      "metadata": {
        "colab": {
          "base_uri": "https://localhost:8080/",
          "height": 241
        },
        "id": "agjFfZBQ0FR9",
        "outputId": "7cfacaba-a837-4efc-8e2e-78a3db67c713"
      },
      "execution_count": 15,
      "outputs": [
        {
          "output_type": "execute_result",
          "data": {
            "text/plain": [
              "0    hpl nom may see attached file hplno xls hplno xls\n",
              "1    nom actual vols th forwarded sabrae zajac hou ...\n",
              "2    enron actuals march april estimated actuals ma...\n",
              "3    hpl nom may see attached file hplno xls hplno xls\n",
              "4    hpl nom june see attached file hplno xls hplno...\n",
              "Name: text_combined, dtype: object"
            ],
            "text/html": [
              "<div>\n",
              "<style scoped>\n",
              "    .dataframe tbody tr th:only-of-type {\n",
              "        vertical-align: middle;\n",
              "    }\n",
              "\n",
              "    .dataframe tbody tr th {\n",
              "        vertical-align: top;\n",
              "    }\n",
              "\n",
              "    .dataframe thead th {\n",
              "        text-align: right;\n",
              "    }\n",
              "</style>\n",
              "<table border=\"1\" class=\"dataframe\">\n",
              "  <thead>\n",
              "    <tr style=\"text-align: right;\">\n",
              "      <th></th>\n",
              "      <th>text_combined</th>\n",
              "    </tr>\n",
              "  </thead>\n",
              "  <tbody>\n",
              "    <tr>\n",
              "      <th>0</th>\n",
              "      <td>hpl nom may see attached file hplno xls hplno xls</td>\n",
              "    </tr>\n",
              "    <tr>\n",
              "      <th>1</th>\n",
              "      <td>nom actual vols th forwarded sabrae zajac hou ...</td>\n",
              "    </tr>\n",
              "    <tr>\n",
              "      <th>2</th>\n",
              "      <td>enron actuals march april estimated actuals ma...</td>\n",
              "    </tr>\n",
              "    <tr>\n",
              "      <th>3</th>\n",
              "      <td>hpl nom may see attached file hplno xls hplno xls</td>\n",
              "    </tr>\n",
              "    <tr>\n",
              "      <th>4</th>\n",
              "      <td>hpl nom june see attached file hplno xls hplno...</td>\n",
              "    </tr>\n",
              "  </tbody>\n",
              "</table>\n",
              "</div><br><label><b>dtype:</b> object</label>"
            ]
          },
          "metadata": {},
          "execution_count": 15
        }
      ]
    },
    {
      "cell_type": "code",
      "source": [
        "# Separate features (email text) and target (labels)\n",
        "X = data['text_combined']\n",
        "y = data['label']\n",
        "\n",
        "# Split the data into training and testing sets\n",
        "X_train, X_test, y_train, y_test = train_test_split(X, y, test_size=0.2, random_state=42, stratify=y)"
      ],
      "metadata": {
        "id": "CbQosbF-rnUY"
      },
      "execution_count": 16,
      "outputs": []
    },
    {
      "cell_type": "code",
      "source": [
        "# TF-IDF Vectorization for traditional models\n",
        "tfidf = TfidfVectorizer()\n",
        "X_train_tfidf = tfidf.fit_transform(X_train)\n",
        "X_test_tfidf = tfidf.transform(X_test)"
      ],
      "metadata": {
        "id": "zLfsINMaslVc"
      },
      "execution_count": 17,
      "outputs": []
    },
    {
      "cell_type": "code",
      "source": [
        "print('X_train_tfidf shape is ' , X_train_tfidf.shape)\n",
        "print('y_train shape is ' , y_train.shape)\n",
        "print('X_test_tfidf shape is ' , X_test_tfidf.shape)\n",
        "print('y_test shape is ' , y_test.shape)"
      ],
      "metadata": {
        "colab": {
          "base_uri": "https://localhost:8080/"
        },
        "id": "9hALy3vpvYPt",
        "outputId": "37d9465f-1a6d-458f-cdcb-f73c4809a95c"
      },
      "execution_count": 18,
      "outputs": [
        {
          "output_type": "stream",
          "name": "stdout",
          "text": [
            "X_train_tfidf shape is  (65662, 314894)\n",
            "y_train shape is  (65662,)\n",
            "X_test_tfidf shape is  (16416, 314894)\n",
            "y_test shape is  (16416,)\n"
          ]
        }
      ]
    },
    {
      "cell_type": "code",
      "source": [
        "log_model = LogisticRegression()\n",
        "log_model.fit(X_train_tfidf, y_train)\n",
        "y_pred = log_model.predict(X_test_tfidf)"
      ],
      "metadata": {
        "id": "Ijm1aFUIu3na"
      },
      "execution_count": 19,
      "outputs": []
    },
    {
      "cell_type": "code",
      "source": [
        "print('Accuracy : ', metrics.accuracy_score(y_test, y_pred))\n",
        "print('precision : ', metrics.precision_score(y_test, y_pred))\n",
        "print('Recall : ', metrics.recall_score(y_test, y_pred))\n",
        "\n",
        "conf_matrix = metrics.confusion_matrix(y_test, y_pred)\n",
        "plt.figure(figsize=(7, 5))\n",
        "sns.heatmap(conf_matrix, annot=True, fmt='d', cmap='Blues',\n",
        "            xticklabels=['Fraud', 'not Fraud'],\n",
        "            yticklabels=['Fraud', 'not Fraud'])\n",
        "plt.xlabel('Predicted')\n",
        "plt.ylabel('Actual')\n",
        "plt.title('Confusion Matrix for Logistic Regression')\n",
        "plt.show()"
      ],
      "metadata": {
        "colab": {
          "base_uri": "https://localhost:8080/",
          "height": 542
        },
        "id": "LZDfERrdv2MT",
        "outputId": "7c38be36-932e-4df1-aa73-ba97110d8284"
      },
      "execution_count": 20,
      "outputs": [
        {
          "output_type": "stream",
          "name": "stdout",
          "text": [
            "Accuracy :  0.9832480506822612\n",
            "precision :  0.9805330243337196\n",
            "Recall :  0.9875131287198039\n"
          ]
        },
        {
          "output_type": "display_data",
          "data": {
            "text/plain": [
              "<Figure size 700x500 with 2 Axes>"
            ],
            "image/png": "[encoded data removed]"
          },
          "metadata": {}
        }
      ]
    },
    {
      "cell_type": "code",
      "source": [
        "print(f\"Classification Report:\\n{classification_report(y_test, y_pred)}\")"
      ],
      "metadata": {
        "colab": {
          "base_uri": "https://localhost:8080/"
        },
        "id": "pKhLHTc5vyg2",
        "outputId": "f6a95272-bb21-4190-991e-797f3648f828"
      },
      "execution_count": 21,
      "outputs": [
        {
          "output_type": "stream",
          "name": "stdout",
          "text": [
            "Classification Report:\n",
            "              precision    recall  f1-score   support\n",
            "\n",
            "           0       0.99      0.98      0.98      7847\n",
            "           1       0.98      0.99      0.98      8569\n",
            "\n",
            "    accuracy                           0.98     16416\n",
            "   macro avg       0.98      0.98      0.98     16416\n",
            "weighted avg       0.98      0.98      0.98     16416\n",
            "\n"
          ]
        }
      ]
    },
    {
      "cell_type": "markdown",
      "source": [
        "<!-- DEEP LEARNING -->"
      ],
      "metadata": {
        "id": "z2pvqJi8DAlM"
      }
    },
    {
      "cell_type": "code",
      "source": [
        "rd = RandomForestClassifier()\n",
        "rd.fit(X_train_tfidf, y_train)\n",
        "rd.score(X_test_tfidf, y_test)\n",
        "\n",
        "report = classification_report(y_test, rd.predict(X_test_tfidf))\n",
        "print(report)\n",
        "\n",
        "cm = confusion_matrix(y_test, rd.predict(X_test_tfidf))\n",
        "plt.figure(figsize=(10,7))\n",
        "sns.heatmap(cm, annot=True, fmt='d')\n",
        "plt.xlabel('Predicted')\n",
        "plt.ylabel('Actual')"
      ],
      "metadata": {
        "colab": {
          "base_uri": "https://localhost:8080/",
          "height": 804
        },
        "id": "KB6G_79PVMwq",
        "outputId": "25868d97-bdbd-4cea-9b23-7e828c56d8ef"
      },
      "execution_count": 22,
      "outputs": [
        {
          "output_type": "stream",
          "name": "stdout",
          "text": [
            "              precision    recall  f1-score   support\n",
            "\n",
            "           0       0.98      0.99      0.98      7847\n",
            "           1       0.99      0.98      0.98      8569\n",
            "\n",
            "    accuracy                           0.98     16416\n",
            "   macro avg       0.98      0.98      0.98     16416\n",
            "weighted avg       0.98      0.98      0.98     16416\n",
            "\n"
          ]
        },
        {
          "output_type": "execute_result",
          "data": {
            "text/plain": [
              "['random_forest_model.pkl']"
            ]
          },
          "metadata": {},
          "execution_count": 22
        },
        {
          "output_type": "display_data",
          "data": {
            "text/plain": [
              "<Figure size 1000x700 with 2 Axes>"
            ],
            "image/png": "[encoded data removed]"
          },
          "metadata": {}
        }
      ]
    },
    {
      "cell_type": "code",
      "source": [
        "joblib.dump(rd, '/content/drive/MyDrive/datasets/random_forest_model.pkl')"
      ],
      "metadata": {
        "colab": {
          "base_uri": "https://localhost:8080/"
        },
        "id": "AGH4RZSha10o",
        "outputId": "bb818b4e-4752-412a-9175-9741948cbdfe"
      },
      "execution_count": 27,
      "outputs": [
        {
          "output_type": "execute_result",
          "data": {
            "text/plain": [
              "['/content/drive/MyDrive/datasets/random_forest_model.pkl']"
            ]
          },
          "metadata": {},
          "execution_count": 27
        }
      ]
    },
    {
      "cell_type": "code",
      "source": [
        "dt = DecisionTreeClassifier()\n",
        "dt.fit(X_train_tfidf, y_train)\n",
        "dt.score(X_test_tfidf, y_test)\n",
        "\n",
        "report = classification_report(y_test, dt.predict(X_test_tfidf))\n",
        "print(report)\n",
        "\n",
        "cm = confusion_matrix(y_test, dt.predict(X_test_tfidf))\n",
        "plt.figure(figsize=(10,7))\n",
        "sns.heatmap(cm, annot=True, fmt='d')\n",
        "plt.xlabel('Predicted')\n",
        "plt.ylabel('Actual')"
      ],
      "metadata": {
        "colab": {
          "base_uri": "https://localhost:8080/",
          "height": 804
        },
        "id": "LxJBZZHnWDGM",
        "outputId": "b827b92a-96d5-4152-a6ca-d8f2a97e8369"
      },
      "execution_count": 23,
      "outputs": [
        {
          "output_type": "stream",
          "name": "stdout",
          "text": [
            "              precision    recall  f1-score   support\n",
            "\n",
            "           0       0.95      0.95      0.95      7847\n",
            "           1       0.95      0.96      0.96      8569\n",
            "\n",
            "    accuracy                           0.95     16416\n",
            "   macro avg       0.95      0.95      0.95     16416\n",
            "weighted avg       0.95      0.95      0.95     16416\n",
            "\n"
          ]
        },
        {
          "output_type": "execute_result",
          "data": {
            "text/plain": [
              "['decision_tree_model.pkl']"
            ]
          },
          "metadata": {},
          "execution_count": 23
        },
        {
          "output_type": "display_data",
          "data": {
            "text/plain": [
              "<Figure size 1000x700 with 2 Axes>"
            ],
            "image/png": "[encoded data removed]"
          },
          "metadata": {}
        }
      ]
    },
    {
      "cell_type": "code",
      "source": [
        "joblib.dump(rd, '/content/drive/MyDrive/datasets/decision_tree_model.pkl')"
      ],
      "metadata": {
        "colab": {
          "base_uri": "https://localhost:8080/"
        },
        "id": "8iIbY_qQa9Xj",
        "outputId": "49f5a118-d03a-4a13-a995-55209cb9bfa6"
      },
      "execution_count": 28,
      "outputs": [
        {
          "output_type": "execute_result",
          "data": {
            "text/plain": [
              "['/content/drive/MyDrive/datasets/decision_tree_model.pkl']"
            ]
          },
          "metadata": {},
          "execution_count": 28
        }
      ]
    },
    {
      "cell_type": "code",
      "source": [
        "# # save the model\n",
        "# joblib.dump(log_model, '/content/Log_model.pkl')\n",
        "\n",
        "# # save the tfidf vectorizer model as pkl file\n",
        "# joblib.dump(tfidf, '/content/drive/MyDrive/datasets/tfidf_vectorizer.pkl')\n",
        "\n",
        "# # save the model using pickle library\n",
        "# import pickle\n",
        "# with open('/content/drive/MyDrive/datasets/log_model.pkl', 'wb') as file:\n",
        "#     pickle.dump(log_model, file)"
      ],
      "metadata": {
        "id": "4sgGQWDWNmDt"
      },
      "execution_count": 24,
      "outputs": []
    },
    {
      "cell_type": "markdown",
      "source": [
        "# Real data for model testing"
      ],
      "metadata": {
        "id": "bw7ZXFfrmdhf"
      }
    },
    {
      "cell_type": "code",
      "source": [
        "test_data_extended = {\n",
        "        'descriptor': [\n",
        "        \"Right To rent request\",\n",
        "        \"Unknown loan request\",\n",
        "        \"Email verification\",\n",
        "        \"Follow up with letting agency\",\n",
        "        \"Unknown loan approval!\",\n",
        "        \"Confirmation for a property view\",\n",
        "        \"Registration for Agency\",\n",
        "        \"Suspicious activity alert\",\n",
        "        \"Account deactivation warning\",\n",
        "        \"Secure your account\",\n",
        "        \"Prize-winning notification\",\n",
        "        \"Monthly billing statement\",\n",
        "        \"Job application confirmation\",\n",
        "        \"Payment overdue reminder\",\n",
        "        \"Password reset request\",\n",
        "        \"Important account update\",\n",
        "        \"Lottery winnings\",\n",
        "        \"New device sign-in alert\",\n",
        "        \"Urgent tax payment request\",\n",
        "        \"Account suspension alert\"\n",
        "    ],\n",
        "    'email_text': [\n",
        "        \"1-Good afternoon,Hope you are well.The management company asks for your right to rent share codes. Please can you send me the share codes to prove your right to rent for yourself and your partner.Thank you.\",\n",
        "        \"2-Welcome! Welcome! We'll transfer your loan as quickly as possible into your bank account. Our aim is to make your loan as easy as is possible.\",\n",
        "        \"3-Please use the above code to verify your email ID for signing into Bito Workspace.Thank you,Team Bito.\",\n",
        "        \"4-Hi, I hope you are well. I just wanted to follow up after the viewing we had on Friday at the Royal Winchester House. Have you made a decision on whether to proceed or not?\",\n",
        "        \"5-Hello there! We are so happy to help you get your loan. We promise to get the amount of your loan directly into your bank account as fast as we can. Our goal is to simplify the loan process for you. Get Loan Now\",\n",
        "        \"6-This is to confirm that your viewing has been arranged for Friday, 14 June 2024 at 3:00 PM at the following properties. The meeting point is at Rrakell\",\n",
        "        \"7-Good day,Hope all is well!.Thank you for your interest in Cromwell Medical Staffing!In order to complete your registration with us, there are a few steps that need to be completed.Step 1 - Internal documents to be completed and signed by yourself.\",\n",
        "        \"8-We’ve noticed suspicious activity on your account. Please review your recent transactions and secure your account immediately.\",\n",
        "        \"9-Your account will be deactivated within 24 hours due to inactivity. Please log in now to avoid losing access.\",\n",
        "        \"10-Your account has been locked due to multiple login attempts. Click here to secure your account.\",\n",
        "        \"11-Congratulations! You've won a prize! Claim your reward now by clicking this link.\",\n",
        "        \"12-Dear customer, please find attached your monthly billing statement. Review the details and ensure timely payment.\",\n",
        "        \"13-Thank you for your job application. We will review your details and get back to you shortly.\",\n",
        "        \"13-This is a reminder that your payment is overdue. Please make the payment at your earliest convenience to avoid penalties.\",\n",
        "        \"14-We received a request to reset your password. If this was not you, please ignore this email.\",\n",
        "        \"15-Dear customer, we are updating our privacy policies. Please review the changes here.\",\n",
        "        \"16-You have won a large sum in our lottery draw! Claim your winnings by clicking here.\",\n",
        "        \"17-We detected a sign-in from a new device. Please verify if this was you.\",\n",
        "        \"18-This is a final notice for your overdue tax payment. Avoid legal action by making payment now.\",\n",
        "        \"19-Your account has been suspended due to suspicious activity. Reactivate it by verifying your identity.\"\n",
        "    ],\n",
        "    'true_labels': [\n",
        "        0, 1, 0, 0, 1, 0, 0, 1, 1, 1, 1, 0, 0, 1, 0, 0, 1, 0, 1, 1  # 0: non-phishing, 1: phishing\n",
        "    ]\n",
        "}\n",
        "df = pd.DataFrame(test_data_extended)\n"
      ],
      "metadata": {
        "id": "R2nLdBt33rBa"
      },
      "execution_count": 31,
      "outputs": []
    },
    {
      "cell_type": "code",
      "source": [
        "from sklearn.feature_extraction.text import TfidfVectorizer\n",
        "\n",
        "# loaded_log_model = joblib.load('/content/Log_model.pkl')\n",
        "random_forest_model = joblib.load('/content/drive/MyDrive/datasets/random_forest_model.pkl')\n",
        "# decision_tree_model = joblib.load('/content/drive/MyDrive/datasets/decision_tree_model.pkl')\n",
        "# Initialize lists to store descriptors, predictions, and true labels\n",
        "descriptors = []\n",
        "predictions = []\n",
        "true_labels = []\n",
        "email_texts = []\n",
        "\n",
        "# Iterate over each row in the dataframe\n",
        "for index, row in df.iterrows():\n",
        "    descriptor = row['descriptor']\n",
        "    email_text = row['email_text']\n",
        "    true_label = row['true_labels']\n",
        "\n",
        "    # Preprocess the email text (assuming 'vectorizer' is your TF-IDF vectorizer)\n",
        "    X_email = tfidf.transform([email_text])\n",
        "\n",
        "    # Predict using the logistic regression model\n",
        "    predicted_label = random_forest_model.predict(X_email)\n",
        "\n",
        "    # Append the descriptor, predicted label, true label, and email text to their respective lists\n",
        "    descriptors.append(descriptor)\n",
        "    predictions.append(predicted_label[0])  # Since predicted_label is an array, get the first element\n",
        "    true_labels.append(true_label)\n",
        "    email_texts.append(email_text)\n",
        "\n",
        "# Convert lists to numpy arrays for easier comparison\n",
        "descriptors = np.array(descriptors)\n",
        "predictions = np.array(predictions)\n",
        "true_labels = np.array(true_labels)\n",
        "email_texts = np.array(email_texts)\n",
        "\n",
        "\n",
        "# Print descriptors, predicted labels, true labels, and email texts\n",
        "for i in range(len(descriptors)):\n",
        "    print(f\"\\nEmail text: {email_texts[i]}\")\n",
        "    print(f\"\\nDescriptor: {descriptors[i]}\")\n",
        "    print(f\"Predicted label: {'Fraud' if predictions[i] == 1 else 'Non-Fraud'}\")\n",
        "    print(f\"True label: {'Fraud' if true_labels[i] == 1 else 'Non-Fraud'}\")"
      ],
      "metadata": {
        "id": "PTxN3mOp7kMj",
        "colab": {
          "base_uri": "https://localhost:8080/"
        },
        "outputId": "5f34f507-65ca-4a3b-9064-438e85c0ba89"
      },
      "execution_count": 34,
      "outputs": [
        {
          "output_type": "stream",
          "name": "stdout",
          "text": [
            "\n",
            "Email text: 1-Good afternoon,Hope you are well.The management company asks for your right to rent share codes. Please can you send me the share codes to prove your right to rent for yourself and your partner.Thank you.\n",
            "\n",
            "Descriptor: Right To rent request\n",
            "Predicted label: Non-Fraud\n",
            "True label: Non-Fraud\n",
            "\n",
            "Email text: 2-Welcome! Welcome! We'll transfer your loan as quickly as possible into your bank account. Our aim is to make your loan as easy as is possible.\n",
            "\n",
            "Descriptor: Unknown loan request\n",
            "Predicted label: Fraud\n",
            "True label: Fraud\n",
            "\n",
            "Email text: 3-Please use the above code to verify your email ID for signing into Bito Workspace.Thank you,Team Bito.\n",
            "\n",
            "Descriptor: Email verification\n",
            "Predicted label: Non-Fraud\n",
            "True label: Non-Fraud\n",
            "\n",
            "Email text: 4-Hi, I hope you are well. I just wanted to follow up after the viewing we had on Friday at the Royal Winchester House. Have you made a decision on whether to proceed or not?\n",
            "\n",
            "Descriptor: Follow up with letting agency\n",
            "Predicted label: Non-Fraud\n",
            "True label: Non-Fraud\n",
            "\n",
            "Email text: 5-Hello there! We are so happy to help you get your loan. We promise to get the amount of your loan directly into your bank account as fast as we can. Our goal is to simplify the loan process for you. Get Loan Now\n",
            "\n",
            "Descriptor: Unknown loan approval!\n",
            "Predicted label: Fraud\n",
            "True label: Fraud\n",
            "\n",
            "Email text: 6-This is to confirm that your viewing has been arranged for Friday, 14 June 2024 at 3:00 PM at the following properties. The meeting point is at Rrakell\n",
            "\n",
            "Descriptor: Confirmation for a property view\n",
            "Predicted label: Non-Fraud\n",
            "True label: Non-Fraud\n",
            "\n",
            "Email text: 7-Good day,Hope all is well!.Thank you for your interest in Cromwell Medical Staffing!In order to complete your registration with us, there are a few steps that need to be completed.Step 1 - Internal documents to be completed and signed by yourself.\n",
            "\n",
            "Descriptor: Registration for Agency\n",
            "Predicted label: Non-Fraud\n",
            "True label: Non-Fraud\n",
            "\n",
            "Email text: 8-We’ve noticed suspicious activity on your account. Please review your recent transactions and secure your account immediately.\n",
            "\n",
            "Descriptor: Suspicious activity alert\n",
            "Predicted label: Fraud\n",
            "True label: Fraud\n",
            "\n",
            "Email text: 9-Your account will be deactivated within 24 hours due to inactivity. Please log in now to avoid losing access.\n",
            "\n",
            "Descriptor: Account deactivation warning\n",
            "Predicted label: Fraud\n",
            "True label: Fraud\n",
            "\n",
            "Email text: 10-Your account has been locked due to multiple login attempts. Click here to secure your account.\n",
            "\n",
            "Descriptor: Secure your account\n",
            "Predicted label: Fraud\n",
            "True label: Fraud\n",
            "\n",
            "Email text: 11-Congratulations! You've won a prize! Claim your reward now by clicking this link.\n",
            "\n",
            "Descriptor: Prize-winning notification\n",
            "Predicted label: Non-Fraud\n",
            "True label: Fraud\n",
            "\n",
            "Email text: 12-Dear customer, please find attached your monthly billing statement. Review the details and ensure timely payment.\n",
            "\n",
            "Descriptor: Monthly billing statement\n",
            "Predicted label: Non-Fraud\n",
            "True label: Non-Fraud\n",
            "\n",
            "Email text: 13-Thank you for your job application. We will review your details and get back to you shortly.\n",
            "\n",
            "Descriptor: Job application confirmation\n",
            "Predicted label: Non-Fraud\n",
            "True label: Non-Fraud\n",
            "\n",
            "Email text: 13-This is a reminder that your payment is overdue. Please make the payment at your earliest convenience to avoid penalties.\n",
            "\n",
            "Descriptor: Payment overdue reminder\n",
            "Predicted label: Fraud\n",
            "True label: Fraud\n",
            "\n",
            "Email text: 14-We received a request to reset your password. If this was not you, please ignore this email.\n",
            "\n",
            "Descriptor: Password reset request\n",
            "Predicted label: Fraud\n",
            "True label: Non-Fraud\n",
            "\n",
            "Email text: 15-Dear customer, we are updating our privacy policies. Please review the changes here.\n",
            "\n",
            "Descriptor: Important account update\n",
            "Predicted label: Fraud\n",
            "True label: Non-Fraud\n",
            "\n",
            "Email text: 16-You have won a large sum in our lottery draw! Claim your winnings by clicking here.\n",
            "\n",
            "Descriptor: Lottery winnings\n",
            "Predicted label: Fraud\n",
            "True label: Fraud\n",
            "\n",
            "Email text: 17-We detected a sign-in from a new device. Please verify if this was you.\n",
            "\n",
            "Descriptor: New device sign-in alert\n",
            "Predicted label: Fraud\n",
            "True label: Non-Fraud\n",
            "\n",
            "Email text: 18-This is a final notice for your overdue tax payment. Avoid legal action by making payment now.\n",
            "\n",
            "Descriptor: Urgent tax payment request\n",
            "Predicted label: Fraud\n",
            "True label: Fraud\n",
            "\n",
            "Email text: 19-Your account has been suspended due to suspicious activity. Reactivate it by verifying your identity.\n",
            "\n",
            "Descriptor: Account suspension alert\n",
            "Predicted label: Fraud\n",
            "True label: Fraud\n"
          ]
        }
      ]
    },
    {
      "cell_type": "code",
      "source": [],
      "metadata": {
        "id": "Z0kP86uP7mXk"
      },
      "execution_count": 26,
      "outputs": []
    },
    {
      "cell_type": "code",
      "source": [],
      "metadata": {
        "id": "2Lj49nnOWA0e"
      },
      "execution_count": 26,
      "outputs": []
    }
  ]
}